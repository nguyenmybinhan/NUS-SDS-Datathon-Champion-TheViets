{
 "cells": [
  {
   "cell_type": "markdown",
   "id": "d6fb3458",
   "metadata": {},
   "source": [
    "# Feature 01: SIC Code (Dat)\n"
   ]
  },
  {
   "cell_type": "markdown",
   "id": "a3525bd6",
   "metadata": {},
   "source": [
    "- Rank all companies’ SIC Code based on the mean of sale revenues from that SIC Code\n",
    "- Decide an arbitrary coefficient based on the rank. (E.g: UK = 2 x Singagpore → UK has coefficient of 2 while Singapore has coefficient of 1)\n"
   ]
  },
  {
   "cell_type": "markdown",
   "id": "334aaed9",
   "metadata": {},
   "source": [
    "# Feature 02: Parent + Global Ultimate Country (~same treatment as SIC Code) <Duck>"
   ]
  },
  {
   "cell_type": "markdown",
   "id": "9ed6b365",
   "metadata": {},
   "source": [
    "- Rank the parent country based on the mean of sale revenues as well\n",
    "- Also decide another coefficient based on the rank of the company\n",
    "- To be done together with SIC Code\n"
   ]
  },
  {
   "cell_type": "markdown",
   "id": "65286bf2",
   "metadata": {},
   "source": [
    "# Feature 03: Number of employees (3 columns) <Kien>\n"
   ]
  },
  {
   "cell_type": "markdown",
   "id": "f892df08",
   "metadata": {},
   "source": [
    "Data cleaning:\n",
    "- First perform logistic regression (Explore is_global_ultimate and is_domestic_ultimate)\n",
    "- Then perform linear regression (Explore sales)\n"
   ]
  },
  {
   "cell_type": "markdown",
   "id": "6944da00",
   "metadata": {},
   "source": [
    "# Feature 04: Latitude/ Longitude (An)\n",
    "- Use GIS to locate the latitude and longitude on the map\n",
    "- Detect the country and cross-refer to data on population density\n"
   ]
  },
  {
   "cell_type": "markdown",
   "id": "a6864949",
   "metadata": {},
   "source": [
    "# Feature 05: Entity/ Ownership <Khoa>\n",
    "- Testing KNN and K-Means Clustering to see which is better\n"
   ]
  }
 ],
 "metadata": {
  "kernelspec": {
   "display_name": "Python 3 (ipykernel)",
   "language": "python",
   "name": "python3"
  },
  "language_info": {
   "codemirror_mode": {
    "name": "ipython",
    "version": 3
   },
   "file_extension": ".py",
   "mimetype": "text/x-python",
   "name": "python",
   "nbconvert_exporter": "python",
   "pygments_lexer": "ipython3",
   "version": "3.8.8"
  }
 },
 "nbformat": 4,
 "nbformat_minor": 5
}
