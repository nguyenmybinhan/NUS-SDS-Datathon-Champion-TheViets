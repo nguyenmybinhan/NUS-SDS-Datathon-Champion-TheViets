{
 "cells": [
  {
   "cell_type": "code",
   "execution_count": 19,
   "id": "36b6d004-dd28-4714-be86-497f5740004c",
   "metadata": {},
   "outputs": [],
   "source": [
    "import pandas as pd\n",
    "import numpy as np\n",
    "from sklearn.model_selection import train_test_split\n",
    "from sklearn.linear_model import LinearRegression\n",
    "from sklearn.metrics import mean_squared_error\n",
    "import matplotlib.pyplot as plt"
   ]
  },
  {
   "cell_type": "code",
   "execution_count": 20,
   "id": "5e3fcbd5-2d79-41b0-a6aa-b68e5dde85bb",
   "metadata": {},
   "outputs": [],
   "source": [
    "data = pd.read_csv(\"../data/catA_train.csv\")"
   ]
  },
  {
   "cell_type": "code",
   "execution_count": 21,
   "id": "ddb08b6c-6345-428c-9215-c1c1999446f5",
   "metadata": {},
   "outputs": [
    {
     "name": "stdout",
     "output_type": "stream",
     "text": [
      "860499.1066665167\n"
     ]
    }
   ],
   "source": [
    "#LINEAR REGRESSION TO CLEAN DATA\n",
    "X_features = [\"Sales (Domestic Ultimate Total USD)\",\"Is Domestic Ultimate\",\"Is Global Ultimate\"]\n",
    "y_value = [\"Employees (Domestic Ultimate Total)\"]\n",
    "\n",
    "columns_to_check = [\"Employees (Domestic Ultimate Total)\"]\n",
    "train_data = data.dropna(subset=columns_to_check)\n",
    "predict_data = data[data[\"Employees (Domestic Ultimate Total)\"].isnull()]\n",
    "\n",
    "X = train_data[X_features]\n",
    "y = train_data[y_value]\n",
    "\n",
    "X_train, X_test, y_train, y_test = train_test_split(X, y, test_size=0.3, random_state=42)\n",
    "\n",
    "linear_regression_model = LinearRegression()\n",
    "linear_regression_model.fit(X_train,y_train)\n",
    "\n",
    "y_pred = linear_regression_model.predict(X_test)\n",
    "\n",
    "mse = mean_squared_error(y_test,y_pred)\n",
    "\n",
    "print(mse)"
   ]
  },
  {
   "cell_type": "code",
   "execution_count": 22,
   "id": "456325d5-b763-4cdb-93e0-318a38a81d5b",
   "metadata": {},
   "outputs": [],
   "source": [
    "X_need = predict_data[X_features]\n",
    "y_need = predict_data[y_value]"
   ]
  },
  {
   "cell_type": "code",
   "execution_count": 23,
   "id": "8c4e319f-12c6-4a5b-9474-660c8b5da485",
   "metadata": {},
   "outputs": [
    {
     "name": "stdout",
     "output_type": "stream",
     "text": [
      "       Employees (Domestic Ultimate Total)\n",
      "10                                     NaN\n",
      "177                                    NaN\n",
      "569                                    NaN\n",
      "798                                    NaN\n",
      "1138                                   NaN\n",
      "...                                    ...\n",
      "27875                                  NaN\n",
      "27912                                  NaN\n",
      "28457                                  NaN\n",
      "28770                                  NaN\n",
      "28866                                  NaN\n",
      "\n",
      "[79 rows x 1 columns]\n"
     ]
    }
   ],
   "source": [
    "y_result = linear_regression_model.predict(X_need)\n",
    "print(y_need)"
   ]
  },
  {
   "cell_type": "code",
   "execution_count": 24,
   "id": "35b43383-0190-438f-b75c-6320a6ce6023",
   "metadata": {},
   "outputs": [
    {
     "name": "stdout",
     "output_type": "stream",
     "text": [
      "       Employees (Domestic Ultimate Total)\n",
      "10                              204.168172\n",
      "177                             204.168172\n",
      "569                              59.982394\n",
      "798                             204.153666\n",
      "1138                             89.948575\n",
      "...                                    ...\n",
      "27875                            89.887043\n",
      "27912                           204.153666\n",
      "28457                           204.153666\n",
      "28770                           204.190338\n",
      "28866                           204.396086\n",
      "\n",
      "[79 rows x 1 columns]\n"
     ]
    },
    {
     "name": "stderr",
     "output_type": "stream",
     "text": [
      "C:\\Users\\DELL\\AppData\\Local\\Temp\\ipykernel_19244\\779449384.py:1: SettingWithCopyWarning: \n",
      "A value is trying to be set on a copy of a slice from a DataFrame.\n",
      "Try using .loc[row_indexer,col_indexer] = value instead\n",
      "\n",
      "See the caveats in the documentation: https://pandas.pydata.org/pandas-docs/stable/user_guide/indexing.html#returning-a-view-versus-a-copy\n",
      "  y_need[\"Employees (Domestic Ultimate Total)\"] = y_result\n"
     ]
    }
   ],
   "source": [
    "y_need[\"Employees (Domestic Ultimate Total)\"] = y_result\n",
    "print(y_need)"
   ]
  },
  {
   "cell_type": "code",
   "execution_count": 25,
   "id": "24a6ae08-5d00-495d-a2cc-202fd114abe0",
   "metadata": {},
   "outputs": [],
   "source": [
    "cleansed_data = data\n",
    "cleansed_data.loc[predict_data.index, y_value] = y_need"
   ]
  },
  {
   "cell_type": "code",
   "execution_count": 26,
   "id": "6554441e-59fd-4253-bc74-f4768d08bae8",
   "metadata": {},
   "outputs": [
    {
     "name": "stdout",
     "output_type": "stream",
     "text": [
      "9063.689000632157\n"
     ]
    }
   ],
   "source": [
    "#LINEAR REGRESSION TO CLEAN DATA (EMPLOYEES ON SITE)\n",
    "X_features = [\"Sales (Domestic Ultimate Total USD)\",\"Is Domestic Ultimate\",\"Is Global Ultimate\"]\n",
    "y_value = [\"Employees (Single Site)\"]\n",
    "\n",
    "columns_to_check = [\"Employees (Single Site)\"]\n",
    "train_data = data.dropna(subset=columns_to_check)\n",
    "predict_data = data[data[\"Employees (Single Site)\"].isnull()]\n",
    "\n",
    "X = train_data[X_features]\n",
    "y = train_data[y_value]\n",
    "\n",
    "X_train, X_test, y_train, y_test = train_test_split(X, y, test_size=0.3, random_state=42)\n",
    "\n",
    "linear_regression_model = LinearRegression()\n",
    "linear_regression_model.fit(X_train,y_train)\n",
    "\n",
    "y_pred = linear_regression_model.predict(X_test)\n",
    "\n",
    "mse = mean_squared_error(y_test,y_pred)\n",
    "\n",
    "print(mse)"
   ]
  },
  {
   "cell_type": "code",
   "execution_count": 27,
   "id": "3bf9c51b-d291-4fb6-934f-4734e8fa0d0d",
   "metadata": {},
   "outputs": [
    {
     "name": "stderr",
     "output_type": "stream",
     "text": [
      "C:\\Users\\DELL\\AppData\\Local\\Temp\\ipykernel_19244\\568109872.py:4: SettingWithCopyWarning: \n",
      "A value is trying to be set on a copy of a slice from a DataFrame.\n",
      "Try using .loc[row_indexer,col_indexer] = value instead\n",
      "\n",
      "See the caveats in the documentation: https://pandas.pydata.org/pandas-docs/stable/user_guide/indexing.html#returning-a-view-versus-a-copy\n",
      "  y_need[\"Employees (Single Site)\"] = y_result\n"
     ]
    }
   ],
   "source": [
    "X_need = predict_data[X_features]\n",
    "y_need = predict_data[y_value]\n",
    "y_result = linear_regression_model.predict(X_need)\n",
    "y_need[\"Employees (Single Site)\"] = y_result\n",
    "cleansed_data.loc[predict_data.index, y_value] = y_need"
   ]
  },
  {
   "cell_type": "code",
   "execution_count": 28,
   "id": "cb8c9c25-0196-4675-9f15-4db6f6c99372",
   "metadata": {},
   "outputs": [
    {
     "name": "stdout",
     "output_type": "stream",
     "text": [
      "1883742340.981932\n"
     ]
    }
   ],
   "source": [
    "#LINEAR REGRESSION TO CLEAN DATA (EMPLOYEES ON SITE)\n",
    "X_features = [\"Sales (Domestic Ultimate Total USD)\",\"Is Domestic Ultimate\",\"Is Global Ultimate\"]\n",
    "y_value = [\"Employees (Global Ultimate Total)\"]\n",
    "\n",
    "columns_to_check = [\"Employees (Global Ultimate Total)\"]\n",
    "train_data = data.dropna(subset=columns_to_check)\n",
    "predict_data = data[data[\"Employees (Global Ultimate Total)\"].isnull()]\n",
    "\n",
    "X = train_data[X_features]\n",
    "y = train_data[y_value]\n",
    "\n",
    "X_train, X_test, y_train, y_test = train_test_split(X, y, test_size=0.3, random_state=42)\n",
    "\n",
    "linear_regression_model = LinearRegression()\n",
    "linear_regression_model.fit(X_train,y_train)\n",
    "\n",
    "y_pred = linear_regression_model.predict(X_test)\n",
    "\n",
    "mse = mean_squared_error(y_test,y_pred)\n",
    "\n",
    "print(mse)"
   ]
  },
  {
   "cell_type": "code",
   "execution_count": 29,
   "id": "223cf509-6abe-4d4b-be1d-b85f2b303ac9",
   "metadata": {},
   "outputs": [
    {
     "name": "stderr",
     "output_type": "stream",
     "text": [
      "C:\\Users\\DELL\\AppData\\Local\\Temp\\ipykernel_19244\\3579808998.py:4: SettingWithCopyWarning: \n",
      "A value is trying to be set on a copy of a slice from a DataFrame.\n",
      "Try using .loc[row_indexer,col_indexer] = value instead\n",
      "\n",
      "See the caveats in the documentation: https://pandas.pydata.org/pandas-docs/stable/user_guide/indexing.html#returning-a-view-versus-a-copy\n",
      "  y_need[\"Employees (Global Ultimate Total)\"] = y_result\n"
     ]
    }
   ],
   "source": [
    "X_need = predict_data[X_features]\n",
    "y_need = predict_data[y_value]\n",
    "y_result = linear_regression_model.predict(X_need)\n",
    "y_need[\"Employees (Global Ultimate Total)\"] = y_result\n",
    "cleansed_data.loc[predict_data.index, y_value] = y_need"
   ]
  },
  {
   "cell_type": "code",
   "execution_count": 30,
   "id": "dd8a6b05-37df-4954-b856-05862721d9b8",
   "metadata": {},
   "outputs": [],
   "source": [
    "cleansed_data.to_csv(\"data_employee_clean.csv\",index=False)"
   ]
  },
  {
   "cell_type": "code",
   "execution_count": null,
   "id": "a5524089-769e-4240-8759-cc8e29a0db59",
   "metadata": {},
   "outputs": [],
   "source": []
  }
 ],
 "metadata": {
  "kernelspec": {
   "display_name": "Python 3 (ipykernel)",
   "language": "python",
   "name": "python3"
  },
  "language_info": {
   "codemirror_mode": {
    "name": "ipython",
    "version": 3
   },
   "file_extension": ".py",
   "mimetype": "text/x-python",
   "name": "python",
   "nbconvert_exporter": "python",
   "pygments_lexer": "ipython3",
   "version": "3.10.4"
  }
 },
 "nbformat": 4,
 "nbformat_minor": 5
}
